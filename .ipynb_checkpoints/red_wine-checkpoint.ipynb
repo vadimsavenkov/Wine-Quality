{
 "cells": [
  {
   "cell_type": "code",
   "execution_count": 1,
   "metadata": {},
   "outputs": [],
   "source": [
    "# Just to ignore warnings\n",
    "import warnings\n",
    "warnings.filterwarnings('ignore')\n",
    "#import libraries\n",
    "import pandas as pd\n",
    "import seaborn as sns\n",
    "import matplotlib.pyplot as plt\n",
    "import numpy as np\n",
    "%matplotlib inline\n",
    "import sklearn as sk\n",
    "#preprocessing module\n",
    "from sklearn.model_selection import train_test_split"
   ]
  },
  {
   "cell_type": "code",
   "execution_count": 2,
   "metadata": {},
   "outputs": [],
   "source": [
    "from sklearn.model_selection import train_test_split\n",
    "from sklearn.ensemble import RandomForestClassifier\n",
    "from sklearn.svm import SVC\n",
    "from sklearn.metrics import classification_report\n",
    "from sklearn.metrics import confusion_matrix\n",
    "from sklearn.metrics import accuracy_score, r2_score\n",
    "from sklearn.model_selection import KFold\n",
    "from sklearn.model_selection import cross_val_score\n",
    "from sklearn.linear_model import LogisticRegression, LinearRegression\n",
    "from sklearn.tree import DecisionTreeClassifier\n",
    "from sklearn.neighbors import KNeighborsClassifier\n",
    "from sklearn.ensemble import RandomForestClassifier\n",
    "from sklearn.discriminant_analysis import LinearDiscriminantAnalysis\n",
    "from sklearn.naive_bayes import GaussianNB\n",
    "from sklearn.svm import SVC\n",
    "from sklearn.tree import DecisionTreeRegressor\n",
    "from sklearn.neighbors import KNeighborsRegressor\n",
    "from sklearn.ensemble import RandomForestRegressor\n",
    "from sklearn.tree import DecisionTreeRegressor\n",
    "from sklearn.svm import SVR\n",
    "from sklearn.tree import DecisionTreeRegressor\n",
    "from sklearn import preprocessing"
   ]
  },
  {
   "cell_type": "code",
   "execution_count": 3,
   "metadata": {},
   "outputs": [
    {
     "data": {
      "text/html": [
       "<div>\n",
       "<style scoped>\n",
       "    .dataframe tbody tr th:only-of-type {\n",
       "        vertical-align: middle;\n",
       "    }\n",
       "\n",
       "    .dataframe tbody tr th {\n",
       "        vertical-align: top;\n",
       "    }\n",
       "\n",
       "    .dataframe thead th {\n",
       "        text-align: right;\n",
       "    }\n",
       "</style>\n",
       "<table border=\"1\" class=\"dataframe\">\n",
       "  <thead>\n",
       "    <tr style=\"text-align: right;\">\n",
       "      <th></th>\n",
       "      <th>fixed acidity</th>\n",
       "      <th>volatile acidity</th>\n",
       "      <th>citric acid</th>\n",
       "      <th>residual sugar</th>\n",
       "      <th>chlorides</th>\n",
       "      <th>free sulfur dioxide</th>\n",
       "      <th>total sulfur dioxide</th>\n",
       "      <th>density</th>\n",
       "      <th>pH</th>\n",
       "      <th>sulphates</th>\n",
       "      <th>alcohol</th>\n",
       "      <th>quality</th>\n",
       "    </tr>\n",
       "  </thead>\n",
       "  <tbody>\n",
       "    <tr>\n",
       "      <th>0</th>\n",
       "      <td>7.4</td>\n",
       "      <td>0.70</td>\n",
       "      <td>0.00</td>\n",
       "      <td>1.9</td>\n",
       "      <td>0.076</td>\n",
       "      <td>11.0</td>\n",
       "      <td>34.0</td>\n",
       "      <td>0.9978</td>\n",
       "      <td>3.51</td>\n",
       "      <td>0.56</td>\n",
       "      <td>9.4</td>\n",
       "      <td>5</td>\n",
       "    </tr>\n",
       "    <tr>\n",
       "      <th>1</th>\n",
       "      <td>7.8</td>\n",
       "      <td>0.88</td>\n",
       "      <td>0.00</td>\n",
       "      <td>2.6</td>\n",
       "      <td>0.098</td>\n",
       "      <td>25.0</td>\n",
       "      <td>67.0</td>\n",
       "      <td>0.9968</td>\n",
       "      <td>3.20</td>\n",
       "      <td>0.68</td>\n",
       "      <td>9.8</td>\n",
       "      <td>5</td>\n",
       "    </tr>\n",
       "    <tr>\n",
       "      <th>2</th>\n",
       "      <td>7.8</td>\n",
       "      <td>0.76</td>\n",
       "      <td>0.04</td>\n",
       "      <td>2.3</td>\n",
       "      <td>0.092</td>\n",
       "      <td>15.0</td>\n",
       "      <td>54.0</td>\n",
       "      <td>0.9970</td>\n",
       "      <td>3.26</td>\n",
       "      <td>0.65</td>\n",
       "      <td>9.8</td>\n",
       "      <td>5</td>\n",
       "    </tr>\n",
       "    <tr>\n",
       "      <th>3</th>\n",
       "      <td>11.2</td>\n",
       "      <td>0.28</td>\n",
       "      <td>0.56</td>\n",
       "      <td>1.9</td>\n",
       "      <td>0.075</td>\n",
       "      <td>17.0</td>\n",
       "      <td>60.0</td>\n",
       "      <td>0.9980</td>\n",
       "      <td>3.16</td>\n",
       "      <td>0.58</td>\n",
       "      <td>9.8</td>\n",
       "      <td>6</td>\n",
       "    </tr>\n",
       "    <tr>\n",
       "      <th>4</th>\n",
       "      <td>7.4</td>\n",
       "      <td>0.70</td>\n",
       "      <td>0.00</td>\n",
       "      <td>1.9</td>\n",
       "      <td>0.076</td>\n",
       "      <td>11.0</td>\n",
       "      <td>34.0</td>\n",
       "      <td>0.9978</td>\n",
       "      <td>3.51</td>\n",
       "      <td>0.56</td>\n",
       "      <td>9.4</td>\n",
       "      <td>5</td>\n",
       "    </tr>\n",
       "  </tbody>\n",
       "</table>\n",
       "</div>"
      ],
      "text/plain": [
       "   fixed acidity  volatile acidity  citric acid  residual sugar  chlorides  \\\n",
       "0            7.4              0.70         0.00             1.9      0.076   \n",
       "1            7.8              0.88         0.00             2.6      0.098   \n",
       "2            7.8              0.76         0.04             2.3      0.092   \n",
       "3           11.2              0.28         0.56             1.9      0.075   \n",
       "4            7.4              0.70         0.00             1.9      0.076   \n",
       "\n",
       "   free sulfur dioxide  total sulfur dioxide  density    pH  sulphates  \\\n",
       "0                 11.0                  34.0   0.9978  3.51       0.56   \n",
       "1                 25.0                  67.0   0.9968  3.20       0.68   \n",
       "2                 15.0                  54.0   0.9970  3.26       0.65   \n",
       "3                 17.0                  60.0   0.9980  3.16       0.58   \n",
       "4                 11.0                  34.0   0.9978  3.51       0.56   \n",
       "\n",
       "   alcohol  quality  \n",
       "0      9.4        5  \n",
       "1      9.8        5  \n",
       "2      9.8        5  \n",
       "3      9.8        6  \n",
       "4      9.4        5  "
      ]
     },
     "execution_count": 3,
     "metadata": {},
     "output_type": "execute_result"
    }
   ],
   "source": [
    "df = pd.read_csv(\"winequality-red.csv\", sep=',')\n",
    "df.columns\n",
    "df.head()"
   ]
  },
  {
   "cell_type": "code",
   "execution_count": 4,
   "metadata": {},
   "outputs": [],
   "source": [
    "x=df.drop(\"quality\", axis=1) #if you want to drop a column axis=1, else it uses axis=0 for row \n",
    "y=df.quality"
   ]
  },
  {
   "cell_type": "code",
   "execution_count": 5,
   "metadata": {},
   "outputs": [
    {
     "name": "stdout",
     "output_type": "stream",
     "text": [
      "(1, 1599)\n",
      "0.3707576574216658\n",
      "0.3447904777433557\n",
      "0.4784701255503001\n",
      "0.07386270992988775\n",
      "-0.052231099516278245\n"
     ]
    }
   ],
   "source": [
    "x=df[[\"fixed acidity\", \"volatile acidity\", \"citric acid\", \"residual sugar\",\n",
    "       \"chlorides\", \"free sulfur dioxide\", \"total sulfur dioxide\", \"density\",\n",
    "       \"pH\", \"sulphates\", \"alcohol\" ]]\n",
    "x=preprocessing.scale(x)\n",
    "\n",
    "\n",
    "y=df[\"quality\"]\n",
    "\n",
    "y=preprocessing.normalize([y])\n",
    "print(y.shape)\n",
    "#scale(df[])\n",
    "\n",
    "\n",
    "x_train, x_test, y_train, y_test = train_test_split(x, y[0], test_size=0.2, random_state=10)\n",
    "\n",
    "#[(\"LR\",LinearRegression()), (\"KNR\", KNeighborsRegressor(n_neighbors=10)), (\"RFR\", RandomForestRegressor(n_estimators=1000, random_state=0)), \n",
    "#        (\"DTC\", DecisionTreeRegressor(random_state=0)), (\"SVR\", SVR())]\n",
    "model_all = [LinearRegression(), KNeighborsRegressor(n_neighbors=10), RandomForestRegressor(n_estimators=1000, random_state=10), \n",
    "            DecisionTreeRegressor(random_state=0), SVR()]\n",
    "         \n",
    "for model in model_all:\n",
    "    model.fit(x_train, y_train)\n",
    "    y_pred = model.predict(x_test)\n",
    "    print(r2_score(y_test, y_pred))\n",
    "    model=None"
   ]
  },
  {
   "cell_type": "code",
   "execution_count": 6,
   "metadata": {},
   "outputs": [
    {
     "name": "stdout",
     "output_type": "stream",
     "text": [
      "(1, 1599)\n",
      "R2 score: 0.46353040926137334\n",
      "MSE: 7.438487527491604e-06\n"
     ]
    }
   ],
   "source": [
    "x=df[[\"fixed acidity\", \"volatile acidity\", \"citric acid\", \"residual sugar\",\n",
    "       \"chlorides\", \"free sulfur dioxide\", \"total sulfur dioxide\", \"density\",\n",
    "       \"pH\", \"sulphates\", \"alcohol\" ]]\n",
    "x=preprocessing.scale(x)\n",
    "\n",
    "\n",
    "y=df[\"quality\"]\n",
    "\n",
    "y=preprocessing.normalize([y])\n",
    "print(y.shape)\n",
    "#scale(df[])\n",
    "\n",
    "\n",
    "x_train, x_test, y_train, y_test = train_test_split(x, y[0], test_size=0.2, random_state=10)\n",
    "from sklearn.metrics import r2_score, mean_squared_error\n",
    "RF = RandomForestRegressor(n_estimators = 100, random_state = 0).fit(x_train, y_train)\n",
    "y_pred = RF.predict(x_test) \n",
    "RF_r2 = r2_score(y_test, y_pred)\n",
    "RF_MSE = mean_squared_error (y_test, y_pred)\n",
    "\n",
    "print(\"R2 score:\", RF_r2)\n",
    "print(\"MSE:\", RF_MSE)\n",
    "\n",
    "\n"
   ]
  },
  {
   "cell_type": "code",
   "execution_count": 7,
   "metadata": {},
   "outputs": [],
   "source": [
    "err_rate = [] #Using Elbow method, find the best value of K\n",
    "\n",
    "for i in range(1,1000):\n",
    "    RF = RandomForestRegressor(n_estimators = 100, random_state = 0).fit(x_train, y_train)\n",
    "    y_pred_i = RF.predict(x_test)\n",
    "    err_rate.append(np.mean(y_pred_i !=y_test))"
   ]
  },
  {
   "cell_type": "code",
   "execution_count": 8,
   "metadata": {},
   "outputs": [
    {
     "data": {
      "text/plain": [
       "Text(0, 0.5, 'Error_Rate')"
      ]
     },
     "execution_count": 8,
     "metadata": {},
     "output_type": "execute_result"
    },
    {
     "data": {
      "image/png": "[encoded data removed]",
      "text/plain": [
       "<Figure size 1152x432 with 1 Axes>"
      ]
     },
     "metadata": {
      "needs_background": "light"
     },
     "output_type": "display_data"
    }
   ],
   "source": [
    "plt.figure(figsize=(16,6))\n",
    "plt.plot(range(1,1000),err_rate,color='green',marker='o',markerfacecolor='blue')\n",
    "plt.title('Error Rate vs. K Value')\n",
    "plt.xlabel('K_Value')\n",
    "plt.ylabel('Error_Rate')"
   ]
  },
  {
   "cell_type": "code",
   "execution_count": 9,
   "metadata": {},
   "outputs": [],
   "source": [
    "#from sklearn.metrics import accuracy_score, confusion_matrix\n",
    "#from sklearn.metrics import classification_report, confusion_matrix # do the train_test split\n",
    "#print(classification_report(y_test, y_pred))\n",
    "#print(confusion_matrix(y_test, y_pred))\n",
    "\n"
   ]
  },
  {
   "cell_type": "code",
   "execution_count": 9,
   "metadata": {},
   "outputs": [
    {
     "name": "stdout",
     "output_type": "stream",
     "text": [
      "<class 'sklearn.preprocessing._data.StandardScaler'>\n",
      "[[-1.35121517 -0.08578674 -1.41742086 ...  1.52397193  1.51173262\n",
      "   0.28631545]\n",
      " [ 0.16067276 -0.59414769  0.61052688 ...  0.27210289  0.16555338\n",
      "   1.23854945]\n",
      " [-0.59527121  0.76148152 -1.41742086 ...  1.98518684  1.68000502\n",
      "  -0.47547176]\n",
      " ...\n",
      " [-0.76971981 -0.82008589  1.13051348 ...  0.53565426  0.61427979\n",
      "   0.95287925]\n",
      " [ 0.97476626 -0.98953954  1.02651616 ... -0.51855124 -0.78799024\n",
      "   1.52421965]\n",
      " [-0.76971981  0.42257421  0.14253894 ... -0.05733633  2.85791185\n",
      "  -0.18980155]]\n"
     ]
    }
   ],
   "source": [
    "from sklearn.preprocessing import StandardScaler\n",
    "scaler = StandardScaler()\n",
    "x = scaler.fit_transform(x)\n",
    "print(StandardScaler)\n",
    "\n",
    "from sklearn.preprocessing import scale\n",
    "x_train_scale= scale(x_train)\n",
    "print(x_train_scale)\n",
    "x_test_scale= scale(x_test)"
   ]
  },
  {
   "cell_type": "code",
   "execution_count": 10,
   "metadata": {},
   "outputs": [
    {
     "name": "stdout",
     "output_type": "stream",
     "text": [
      "(1599,)\n",
      "0.634375\n",
      "0.60625\n",
      "0.7125\n",
      "0.659375\n",
      "0.64375\n"
     ]
    }
   ],
   "source": [
    "#models=[(\"LR\",LogisticRegression()), (\"DTC\", DecisionTreeClassifier()), \n",
    "#        (\"KNC\", KNeighborsClassifier()), (\"SVC\", SVC()), (\"GNB\", GaussianNB()), \n",
    "#        (\"RFC\", RandomForestClassifier())]\n",
    "\n",
    "x=df[[\"fixed acidity\", \"volatile acidity\", \"citric acid\", \"residual sugar\",\n",
    "       \"chlorides\", \"free sulfur dioxide\", \"total sulfur dioxide\", \"density\",\n",
    "       \"pH\", \"sulphates\", \"alcohol\" ]]\n",
    "x=preprocessing.scale(x)\n",
    "\n",
    "\n",
    "y=df[\"quality\"]\n",
    "\n",
    "#y=preprocessing.normalize([y])\n",
    "print(y.shape)\n",
    "#scale(df[])\n",
    "\n",
    "\n",
    "x_train, x_test, y_train, y_test = train_test_split(x, y, test_size=0.2, random_state=0)\n",
    "model_all = [LogisticRegression(), KNeighborsClassifier(), RandomForestClassifier(), \n",
    "        DecisionTreeClassifier(), SVC()]\n",
    "         \n",
    "\n",
    "for model in model_all:\n",
    "    #print(y_train)\n",
    "    #print(np.unique(y_train))\n",
    "    model.fit(x_train, y_train)\n",
    "    score = model.score(x_test, y_test)\n",
    "    print(score)\n",
    "    model=None\n"
   ]
  },
  {
   "cell_type": "code",
   "execution_count": 11,
   "metadata": {},
   "outputs": [],
   "source": [
    "#from sklearn.metrics import classification_report, confusion_matrix # do the train_test split\n",
    "#print(classification_report(y_test, y_pred))\n",
    "#print(confusion_matrix(y_test, y_pred))"
   ]
  },
  {
   "cell_type": "code",
   "execution_count": 12,
   "metadata": {},
   "outputs": [
    {
     "data": {
      "image/png": "[encoded data removed]",
      "text/plain": [
       "<Figure size 432x288 with 1 Axes>"
      ]
     },
     "metadata": {
      "needs_background": "light"
     },
     "output_type": "display_data"
    }
   ],
   "source": [
    "objects = ('LM', 'KNN', 'RF', 'DT', 'SV')\n",
    "y_pos = np.arange(len(objects))\n",
    "performance = [0.628, 0.606, 0.681, 0.643, 0.646]\n",
    "\n",
    "plt.barh(y_pos, performance, align='center', alpha=0.5)\n",
    "plt.yticks(y_pos, objects)\n",
    "plt.ylabel('model')\n",
    "plt.xlabel('r2_score')\n",
    "plt.title('Regressor Performance')\n",
    "\n",
    "plt.show()"
   ]
  },
  {
   "cell_type": "code",
   "execution_count": 13,
   "metadata": {},
   "outputs": [
    {
     "data": {
      "image/png": "[encoded data removed]",
      "text/plain": [
       "<Figure size 432x288 with 1 Axes>"
      ]
     },
     "metadata": {
      "needs_background": "light"
     },
     "output_type": "display_data"
    }
   ],
   "source": [
    "n_groups = 5\n",
    "performance_reg = (0.370, 0.344, 0.479, -0.021, -0.052)\n",
    "performance_class = (0.628, 0.606, 0.681, 0.643, 0.646)\n",
    "\n",
    "\n",
    "# create plot\n",
    "fig, ax = plt.subplots()\n",
    "index = np.arange(n_groups)\n",
    "bar_width = 0.35\n",
    "opacity = 0.8\n",
    "\n",
    "rects1 = plt.bar(index, performance_reg, bar_width, alpha=opacity, color='b', label='R_score')\n",
    "\n",
    "rects2 = plt.bar(index + bar_width, performance_class, bar_width, alpha=opacity, color='g', label='C_score')\n",
    "\n",
    "plt.xlabel('Models')\n",
    "plt.ylabel('Score Types')\n",
    "plt.title('Model Scores')\n",
    "plt.xticks(index + bar_width, ('LM', 'KNN', 'RF', 'DT', 'SV'))\n",
    "plt.legend()\n",
    "\n",
    "plt.tight_layout()\n",
    "plt.show()"
   ]
  },
  {
   "cell_type": "code",
   "execution_count": 14,
   "metadata": {},
   "outputs": [
    {
     "data": {
      "text/plain": [
       "5    681\n",
       "6    638\n",
       "7    199\n",
       "4     53\n",
       "8     18\n",
       "3     10\n",
       "Name: quality, dtype: int64"
      ]
     },
     "execution_count": 14,
     "metadata": {},
     "output_type": "execute_result"
    }
   ],
   "source": [
    "df.quality.value_counts() "
   ]
  }
 ],
 "metadata": {
  "kernelspec": {
   "display_name": "Python 3",
   "language": "python",
   "name": "python3"
  },
  "language_info": {
   "codemirror_mode": {
    "name": "ipython",
    "version": 3
   },
   "file_extension": ".py",
   "mimetype": "text/x-python",
   "name": "python",
   "nbconvert_exporter": "python",
   "pygments_lexer": "ipython3",
   "version": "3.8.5"
  }
 },
 "nbformat": 4,
 "nbformat_minor": 2
}
