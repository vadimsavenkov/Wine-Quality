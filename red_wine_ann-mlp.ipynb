{
 "cells": [
  {
   "cell_type": "code",
   "execution_count": 4,
   "metadata": {},
   "outputs": [],
   "source": [
    "# Just to ignore warnings\n",
    "import warnings\n",
    "warnings.filterwarnings('ignore')\n",
    "\n",
    "\n",
    "import pandas as pd"
   ]
  },
  {
   "cell_type": "markdown",
   "metadata": {},
   "source": [
    "# Read red wine data set"
   ]
  },
  {
   "cell_type": "code",
   "execution_count": 5,
   "metadata": {},
   "outputs": [
    {
     "data": {
      "text/html": [
       "<div>\n",
       "<style scoped>\n",
       "    .dataframe tbody tr th:only-of-type {\n",
       "        vertical-align: middle;\n",
       "    }\n",
       "\n",
       "    .dataframe tbody tr th {\n",
       "        vertical-align: top;\n",
       "    }\n",
       "\n",
       "    .dataframe thead th {\n",
       "        text-align: right;\n",
       "    }\n",
       "</style>\n",
       "<table border=\"1\" class=\"dataframe\">\n",
       "  <thead>\n",
       "    <tr style=\"text-align: right;\">\n",
       "      <th></th>\n",
       "      <th>fixed acidity</th>\n",
       "      <th>volatile acidity</th>\n",
       "      <th>citric acid</th>\n",
       "      <th>residual sugar</th>\n",
       "      <th>chlorides</th>\n",
       "      <th>free sulfur dioxide</th>\n",
       "      <th>total sulfur dioxide</th>\n",
       "      <th>density</th>\n",
       "      <th>pH</th>\n",
       "      <th>sulphates</th>\n",
       "      <th>alcohol</th>\n",
       "      <th>quality</th>\n",
       "    </tr>\n",
       "  </thead>\n",
       "  <tbody>\n",
       "    <tr>\n",
       "      <th>0</th>\n",
       "      <td>7.4</td>\n",
       "      <td>0.70</td>\n",
       "      <td>0.00</td>\n",
       "      <td>1.9</td>\n",
       "      <td>0.076</td>\n",
       "      <td>11.0</td>\n",
       "      <td>34.0</td>\n",
       "      <td>0.9978</td>\n",
       "      <td>3.51</td>\n",
       "      <td>0.56</td>\n",
       "      <td>9.4</td>\n",
       "      <td>5</td>\n",
       "    </tr>\n",
       "    <tr>\n",
       "      <th>1</th>\n",
       "      <td>7.8</td>\n",
       "      <td>0.88</td>\n",
       "      <td>0.00</td>\n",
       "      <td>2.6</td>\n",
       "      <td>0.098</td>\n",
       "      <td>25.0</td>\n",
       "      <td>67.0</td>\n",
       "      <td>0.9968</td>\n",
       "      <td>3.20</td>\n",
       "      <td>0.68</td>\n",
       "      <td>9.8</td>\n",
       "      <td>5</td>\n",
       "    </tr>\n",
       "    <tr>\n",
       "      <th>2</th>\n",
       "      <td>7.8</td>\n",
       "      <td>0.76</td>\n",
       "      <td>0.04</td>\n",
       "      <td>2.3</td>\n",
       "      <td>0.092</td>\n",
       "      <td>15.0</td>\n",
       "      <td>54.0</td>\n",
       "      <td>0.9970</td>\n",
       "      <td>3.26</td>\n",
       "      <td>0.65</td>\n",
       "      <td>9.8</td>\n",
       "      <td>5</td>\n",
       "    </tr>\n",
       "    <tr>\n",
       "      <th>3</th>\n",
       "      <td>11.2</td>\n",
       "      <td>0.28</td>\n",
       "      <td>0.56</td>\n",
       "      <td>1.9</td>\n",
       "      <td>0.075</td>\n",
       "      <td>17.0</td>\n",
       "      <td>60.0</td>\n",
       "      <td>0.9980</td>\n",
       "      <td>3.16</td>\n",
       "      <td>0.58</td>\n",
       "      <td>9.8</td>\n",
       "      <td>6</td>\n",
       "    </tr>\n",
       "    <tr>\n",
       "      <th>4</th>\n",
       "      <td>7.4</td>\n",
       "      <td>0.70</td>\n",
       "      <td>0.00</td>\n",
       "      <td>1.9</td>\n",
       "      <td>0.076</td>\n",
       "      <td>11.0</td>\n",
       "      <td>34.0</td>\n",
       "      <td>0.9978</td>\n",
       "      <td>3.51</td>\n",
       "      <td>0.56</td>\n",
       "      <td>9.4</td>\n",
       "      <td>5</td>\n",
       "    </tr>\n",
       "  </tbody>\n",
       "</table>\n",
       "</div>"
      ],
      "text/plain": [
       "   fixed acidity  volatile acidity  citric acid  residual sugar  chlorides  \\\n",
       "0            7.4              0.70         0.00             1.9      0.076   \n",
       "1            7.8              0.88         0.00             2.6      0.098   \n",
       "2            7.8              0.76         0.04             2.3      0.092   \n",
       "3           11.2              0.28         0.56             1.9      0.075   \n",
       "4            7.4              0.70         0.00             1.9      0.076   \n",
       "\n",
       "   free sulfur dioxide  total sulfur dioxide  density    pH  sulphates  \\\n",
       "0                 11.0                  34.0   0.9978  3.51       0.56   \n",
       "1                 25.0                  67.0   0.9968  3.20       0.68   \n",
       "2                 15.0                  54.0   0.9970  3.26       0.65   \n",
       "3                 17.0                  60.0   0.9980  3.16       0.58   \n",
       "4                 11.0                  34.0   0.9978  3.51       0.56   \n",
       "\n",
       "   alcohol  quality  \n",
       "0      9.4        5  \n",
       "1      9.8        5  \n",
       "2      9.8        5  \n",
       "3      9.8        6  \n",
       "4      9.4        5  "
      ]
     },
     "execution_count": 5,
     "metadata": {},
     "output_type": "execute_result"
    }
   ],
   "source": [
    "df = pd.read_csv(\"winequality-red.csv\", sep=',')\n",
    "df.head()"
   ]
  },
  {
   "cell_type": "code",
   "execution_count": 6,
   "metadata": {},
   "outputs": [
    {
     "data": {
      "text/plain": [
       "Index(['fixed acidity', 'volatile acidity', 'citric acid', 'residual sugar',\n",
       "       'chlorides', 'free sulfur dioxide', 'total sulfur dioxide', 'density',\n",
       "       'pH', 'sulphates', 'alcohol', 'quality'],\n",
       "      dtype='object')"
      ]
     },
     "execution_count": 6,
     "metadata": {},
     "output_type": "execute_result"
    }
   ],
   "source": [
    "df.columns"
   ]
  },
  {
   "cell_type": "code",
   "execution_count": 7,
   "metadata": {},
   "outputs": [
    {
     "data": {
      "text/plain": [
       "5    681\n",
       "6    638\n",
       "7    199\n",
       "4     53\n",
       "8     18\n",
       "3     10\n",
       "Name: quality, dtype: int64"
      ]
     },
     "execution_count": 7,
     "metadata": {},
     "output_type": "execute_result"
    }
   ],
   "source": [
    "df.quality.value_counts()"
   ]
  },
  {
   "cell_type": "markdown",
   "metadata": {},
   "source": [
    "# We have 11 features and quality as target"
   ]
  },
  {
   "cell_type": "code",
   "execution_count": 8,
   "metadata": {},
   "outputs": [],
   "source": [
    "x_columns = 11\n",
    "x = df.iloc[:,0:x_columns].values \n",
    "y = df.iloc[:, x_columns].values"
   ]
  },
  {
   "cell_type": "code",
   "execution_count": 9,
   "metadata": {},
   "outputs": [
    {
     "data": {
      "text/plain": [
       "array([[ 7.4  ,  0.7  ,  0.   , ...,  3.51 ,  0.56 ,  9.4  ],\n",
       "       [ 7.8  ,  0.88 ,  0.   , ...,  3.2  ,  0.68 ,  9.8  ],\n",
       "       [ 7.8  ,  0.76 ,  0.04 , ...,  3.26 ,  0.65 ,  9.8  ],\n",
       "       ...,\n",
       "       [ 6.3  ,  0.51 ,  0.13 , ...,  3.42 ,  0.75 , 11.   ],\n",
       "       [ 5.9  ,  0.645,  0.12 , ...,  3.57 ,  0.71 , 10.2  ],\n",
       "       [ 6.   ,  0.31 ,  0.47 , ...,  3.39 ,  0.66 , 11.   ]])"
      ]
     },
     "execution_count": 9,
     "metadata": {},
     "output_type": "execute_result"
    }
   ],
   "source": [
    "x"
   ]
  },
  {
   "cell_type": "code",
   "execution_count": 10,
   "metadata": {},
   "outputs": [
    {
     "data": {
      "text/plain": [
       "array([5, 5, 5, ..., 6, 5, 6])"
      ]
     },
     "execution_count": 10,
     "metadata": {},
     "output_type": "execute_result"
    }
   ],
   "source": [
    "y"
   ]
  },
  {
   "cell_type": "code",
   "execution_count": 11,
   "metadata": {},
   "outputs": [
    {
     "data": {
      "text/plain": [
       "(numpy.ndarray, numpy.ndarray)"
      ]
     },
     "execution_count": 11,
     "metadata": {},
     "output_type": "execute_result"
    }
   ],
   "source": [
    "type(x), type(y)"
   ]
  },
  {
   "cell_type": "markdown",
   "metadata": {},
   "source": [
    "# Create 2 dataframes with 11 features to train and target to predict"
   ]
  },
  {
   "cell_type": "code",
   "execution_count": 12,
   "metadata": {},
   "outputs": [],
   "source": [
    "x = df.drop('quality', axis = 1)\n",
    "y = df['quality']"
   ]
  },
  {
   "cell_type": "code",
   "execution_count": 13,
   "metadata": {},
   "outputs": [
    {
     "data": {
      "text/plain": [
       "array([5, 6, 7, 4, 8, 3])"
      ]
     },
     "execution_count": 13,
     "metadata": {},
     "output_type": "execute_result"
    }
   ],
   "source": [
    "df.quality.unique()"
   ]
  },
  {
   "cell_type": "markdown",
   "metadata": {},
   "source": [
    "# The quality has 6 categories. Let's encode them and look at the shape "
   ]
  },
  {
   "cell_type": "code",
   "execution_count": 14,
   "metadata": {},
   "outputs": [],
   "source": [
    "#use dummies to encode \n",
    "y=pd.get_dummies(df['quality'])"
   ]
  },
  {
   "cell_type": "code",
   "execution_count": 15,
   "metadata": {},
   "outputs": [
    {
     "data": {
      "text/plain": [
       "(1599, 6)"
      ]
     },
     "execution_count": 15,
     "metadata": {},
     "output_type": "execute_result"
    }
   ],
   "source": [
    "y.head()\n",
    "y.shape"
   ]
  },
  {
   "cell_type": "code",
   "execution_count": 16,
   "metadata": {},
   "outputs": [],
   "source": [
    "#from sklearn.preprocessing import  LabelEncoder,OneHotEncoder\n",
    "#from keras.utils import to_categorical\n",
    "#encoded = to_categorical(y)"
   ]
  },
  {
   "cell_type": "code",
   "execution_count": 20,
   "metadata": {},
   "outputs": [],
   "source": [
    "#import plotly as py\n",
    "#import plotly.graph_objs as go\n",
    "#import ipywidgets as widgets\n",
    "#import numpy as np\n",
    "#from scipy import special\n",
    "#py.offline.init_notebook_mode(connected=True)"
   ]
  },
  {
   "cell_type": "code",
   "execution_count": 21,
   "metadata": {},
   "outputs": [],
   "source": [
    "#df[\"quality\"].iplot(kind=\"histogram\", bins=20, theme=\"white\", title=\"Wine quality\",xTitle='Quality', yTitle='Count')\n",
    "#df.iplot()"
   ]
  },
  {
   "cell_type": "markdown",
   "metadata": {},
   "source": [
    "# Start to split and scale  "
   ]
  },
  {
   "cell_type": "code",
   "execution_count": 14,
   "metadata": {},
   "outputs": [],
   "source": [
    "from sklearn.model_selection import train_test_split\n",
    "x_train, x_test, y_train, y_test = train_test_split(x, y, test_size = 0.2, random_state = 0)"
   ]
  },
  {
   "cell_type": "code",
   "execution_count": 15,
   "metadata": {},
   "outputs": [],
   "source": [
    "from sklearn.preprocessing import StandardScaler "
   ]
  },
  {
   "cell_type": "code",
   "execution_count": 16,
   "metadata": {},
   "outputs": [],
   "source": [
    "scaler = StandardScaler()\n",
    "x_train = scaler.fit_transform(x_train) \n",
    "x_test = scaler.transform(x_test)"
   ]
  },
  {
   "cell_type": "markdown",
   "metadata": {},
   "source": [
    "# Create simple ANN and import MLPClassifier from sklearn"
   ]
  },
  {
   "cell_type": "code",
   "execution_count": 17,
   "metadata": {},
   "outputs": [],
   "source": [
    "from sklearn.neural_network import MLPClassifier\n",
    "model = MLPClassifier(hidden_layer_sizes=(6,6), activation='relu', solver='adam', batch_size=10, max_iter=100, random_state=0)\n"
   ]
  },
  {
   "cell_type": "code",
   "execution_count": 18,
   "metadata": {},
   "outputs": [],
   "source": [
    "model.fit(x_train, y_train)\n",
    "y_pred = model.predict(x_test)"
   ]
  },
  {
   "cell_type": "code",
   "execution_count": 19,
   "metadata": {},
   "outputs": [
    {
     "data": {
      "text/html": [
       "<div>\n",
       "<style scoped>\n",
       "    .dataframe tbody tr th:only-of-type {\n",
       "        vertical-align: middle;\n",
       "    }\n",
       "\n",
       "    .dataframe tbody tr th {\n",
       "        vertical-align: top;\n",
       "    }\n",
       "\n",
       "    .dataframe thead th {\n",
       "        text-align: right;\n",
       "    }\n",
       "</style>\n",
       "<table border=\"1\" class=\"dataframe\">\n",
       "  <thead>\n",
       "    <tr style=\"text-align: right;\">\n",
       "      <th></th>\n",
       "      <th>3</th>\n",
       "      <th>4</th>\n",
       "      <th>5</th>\n",
       "      <th>6</th>\n",
       "      <th>7</th>\n",
       "      <th>8</th>\n",
       "    </tr>\n",
       "  </thead>\n",
       "  <tbody>\n",
       "    <tr>\n",
       "      <th>1109</th>\n",
       "      <td>0</td>\n",
       "      <td>0</td>\n",
       "      <td>0</td>\n",
       "      <td>1</td>\n",
       "      <td>0</td>\n",
       "      <td>0</td>\n",
       "    </tr>\n",
       "    <tr>\n",
       "      <th>1032</th>\n",
       "      <td>0</td>\n",
       "      <td>0</td>\n",
       "      <td>1</td>\n",
       "      <td>0</td>\n",
       "      <td>0</td>\n",
       "      <td>0</td>\n",
       "    </tr>\n",
       "  </tbody>\n",
       "</table>\n",
       "</div>"
      ],
      "text/plain": [
       "      3  4  5  6  7  8\n",
       "1109  0  0  0  1  0  0\n",
       "1032  0  0  1  0  0  0"
      ]
     },
     "execution_count": 19,
     "metadata": {},
     "output_type": "execute_result"
    }
   ],
   "source": [
    "y_test[0:2]"
   ]
  },
  {
   "cell_type": "code",
   "execution_count": 20,
   "metadata": {},
   "outputs": [],
   "source": [
    "y_pred = (y_pred > 0.5)"
   ]
  },
  {
   "cell_type": "code",
   "execution_count": 21,
   "metadata": {},
   "outputs": [
    {
     "data": {
      "text/plain": [
       "array([[False, False, False, False, False, False],\n",
       "       [False, False,  True, False, False, False]])"
      ]
     },
     "execution_count": 21,
     "metadata": {},
     "output_type": "execute_result"
    }
   ],
   "source": [
    "y_pred[0:2]"
   ]
  },
  {
   "cell_type": "code",
   "execution_count": 22,
   "metadata": {},
   "outputs": [],
   "source": [
    "from sklearn.metrics import confusion_matrix, classification_report"
   ]
  },
  {
   "cell_type": "code",
   "execution_count": 23,
   "metadata": {},
   "outputs": [],
   "source": [
    "y_pred=pd.DataFrame(y_pred)\n",
    "confusion_matrix = confusion_matrix(y_test.values.argmax(axis=1), y_pred.values.argmax(axis=1))\n",
    "#confusion_matrix = confusion_matrix(y_test, y_pred)\n"
   ]
  },
  {
   "cell_type": "code",
   "execution_count": 24,
   "metadata": {},
   "outputs": [
    {
     "data": {
      "text/plain": [
       "pandas.core.frame.DataFrame"
      ]
     },
     "execution_count": 24,
     "metadata": {},
     "output_type": "execute_result"
    }
   ],
   "source": [
    "type(y)"
   ]
  },
  {
   "cell_type": "code",
   "execution_count": 25,
   "metadata": {},
   "outputs": [
    {
     "data": {
      "text/plain": [
       "array([[ 0,  0,  2,  0,  0,  0],\n",
       "       [ 3,  0,  6,  2,  0,  0],\n",
       "       [31,  0, 82, 21,  1,  0],\n",
       "       [41,  0, 28, 58, 15,  0],\n",
       "       [ 7,  0,  0, 13,  7,  0],\n",
       "       [ 1,  0,  0,  0,  2,  0]])"
      ]
     },
     "execution_count": 25,
     "metadata": {},
     "output_type": "execute_result"
    }
   ],
   "source": [
    "confusion_matrix"
   ]
  },
  {
   "cell_type": "markdown",
   "metadata": {},
   "source": [
    "# Print MLP confusion matrix and look at the results"
   ]
  },
  {
   "cell_type": "code",
   "execution_count": 26,
   "metadata": {},
   "outputs": [
    {
     "name": "stdout",
     "output_type": "stream",
     "text": [
      "              precision    recall  f1-score   support\n",
      "\n",
      "           0       0.00      0.00      0.00         2\n",
      "           1       0.00      0.00      0.00        11\n",
      "           2       0.69      0.61      0.65       135\n",
      "           3       0.61      0.41      0.49       142\n",
      "           4       0.28      0.26      0.27        27\n",
      "           5       0.00      0.00      0.00         3\n",
      "\n",
      "   micro avg       0.62      0.46      0.53       320\n",
      "   macro avg       0.26      0.21      0.23       320\n",
      "weighted avg       0.59      0.46      0.51       320\n",
      " samples avg       0.46      0.46      0.46       320\n",
      "\n"
     ]
    }
   ],
   "source": [
    "print(classification_report(y_test, y_pred))"
   ]
  },
  {
   "cell_type": "markdown",
   "metadata": {},
   "source": [
    "# Create ANN using keras"
   ]
  },
  {
   "cell_type": "code",
   "execution_count": 27,
   "metadata": {},
   "outputs": [
    {
     "name": "stderr",
     "output_type": "stream",
     "text": [
      "Using TensorFlow backend.\n"
     ]
    }
   ],
   "source": [
    "from keras.models import Sequential\n",
    "model_k = Sequential()\n",
    "from keras.layers import Dense"
   ]
  },
  {
   "cell_type": "code",
   "execution_count": 28,
   "metadata": {},
   "outputs": [],
   "source": [
    "input_layer = Dense(units=6, activation='relu', kernel_initializer='uniform')\n",
    "model_k.add(input_layer)\n",
    "\n",
    "hidden_layer1 = Dense(units=6, activation='relu', kernel_initializer='uniform')\n",
    "model_k.add(hidden_layer1)\n",
    "hidden_layer2 = Dense(units=6, activation='relu', kernel_initializer='uniform')\n",
    "model_k.add(hidden_layer2)\n",
    "hidden_layer3 = Dense(units=6, activation='relu', kernel_initializer='uniform')\n",
    "model_k.add(hidden_layer3)\n",
    "hidden_layer4 = Dense(units=6, activation='relu', kernel_initializer='uniform')\n",
    "model_k.add(hidden_layer4)\n",
    "hidden_layer5 = Dense(units=6, activation='relu', kernel_initializer='uniform')\n",
    "model_k.add(hidden_layer5)\n",
    "hidden_layer6 = Dense(units=6, activation='relu', kernel_initializer='uniform')\n",
    "model_k.add(hidden_layer6)\n",
    "\n",
    "output_layer = Dense(units=6, activation='softmax', kernel_initializer='uniform')\n",
    "model_k.add(output_layer)\n"
   ]
  },
  {
   "cell_type": "code",
   "execution_count": 29,
   "metadata": {},
   "outputs": [
    {
     "data": {
      "text/plain": [
       "(pandas.core.frame.DataFrame, pandas.core.frame.DataFrame)"
      ]
     },
     "execution_count": 29,
     "metadata": {},
     "output_type": "execute_result"
    }
   ],
   "source": [
    "type(x), type(y)"
   ]
  },
  {
   "cell_type": "markdown",
   "metadata": {},
   "source": [
    "# Run ANN model"
   ]
  },
  {
   "cell_type": "code",
   "execution_count": 31,
   "metadata": {},
   "outputs": [
    {
     "name": "stdout",
     "output_type": "stream",
     "text": [
      "WARNING:tensorflow:From /Users/Vsevolod/anaconda3/lib/python3.7/site-packages/tensorflow/python/ops/math_ops.py:3066: to_int32 (from tensorflow.python.ops.math_ops) is deprecated and will be removed in a future version.\n",
      "Instructions for updating:\n",
      "Use tf.cast instead.\n",
      "Epoch 1/100\n",
      "1279/1279 [==============================] - 1s 751us/step - loss: 0.4374 - acc: 0.8333\n",
      "Epoch 2/100\n",
      "1279/1279 [==============================] - 0s 282us/step - loss: 0.3667 - acc: 0.8342\n",
      "Epoch 3/100\n",
      "1279/1279 [==============================] - 0s 219us/step - loss: 0.3260 - acc: 0.8500\n",
      "Epoch 4/100\n",
      "1279/1279 [==============================] - 0s 246us/step - loss: 0.3192 - acc: 0.8552\n",
      "Epoch 5/100\n",
      "1279/1279 [==============================] - 0s 222us/step - loss: 0.3148 - acc: 0.8572\n",
      "Epoch 6/100\n",
      "1279/1279 [==============================] - 0s 218us/step - loss: 0.3108 - acc: 0.8570\n",
      "Epoch 7/100\n",
      "1279/1279 [==============================] - 0s 218us/step - loss: 0.3082 - acc: 0.8573\n",
      "Epoch 8/100\n",
      "1279/1279 [==============================] - 0s 246us/step - loss: 0.3060 - acc: 0.8574\n",
      "Epoch 9/100\n",
      "1279/1279 [==============================] - 0s 274us/step - loss: 0.3039 - acc: 0.8580\n",
      "Epoch 10/100\n",
      "1279/1279 [==============================] - 0s 229us/step - loss: 0.3020 - acc: 0.8584\n",
      "Epoch 11/100\n",
      "1279/1279 [==============================] - 0s 226us/step - loss: 0.3004 - acc: 0.8574\n",
      "Epoch 12/100\n",
      "1279/1279 [==============================] - 0s 307us/step - loss: 0.2988 - acc: 0.8586\n",
      "Epoch 13/100\n",
      "1279/1279 [==============================] - 0s 225us/step - loss: 0.2977 - acc: 0.8590\n",
      "Epoch 14/100\n",
      "1279/1279 [==============================] - 0s 232us/step - loss: 0.2967 - acc: 0.8590\n",
      "Epoch 15/100\n",
      "1279/1279 [==============================] - 0s 247us/step - loss: 0.2955 - acc: 0.8599\n",
      "Epoch 16/100\n",
      "1279/1279 [==============================] - 0s 226us/step - loss: 0.2942 - acc: 0.8598\n",
      "Epoch 17/100\n",
      "1279/1279 [==============================] - 0s 228us/step - loss: 0.2931 - acc: 0.8599\n",
      "Epoch 18/100\n",
      "1279/1279 [==============================] - 0s 222us/step - loss: 0.2919 - acc: 0.8587\n",
      "Epoch 19/100\n",
      "1279/1279 [==============================] - 0s 227us/step - loss: 0.2915 - acc: 0.8593\n",
      "Epoch 20/100\n",
      "1279/1279 [==============================] - 0s 245us/step - loss: 0.2901 - acc: 0.8602\n",
      "Epoch 21/100\n",
      "1279/1279 [==============================] - 0s 251us/step - loss: 0.2892 - acc: 0.8595\n",
      "Epoch 22/100\n",
      "1279/1279 [==============================] - 0s 331us/step - loss: 0.2887 - acc: 0.8602\n",
      "Epoch 23/100\n",
      "1279/1279 [==============================] - 0s 330us/step - loss: 0.2876 - acc: 0.8616\n",
      "Epoch 24/100\n",
      "1279/1279 [==============================] - 0s 242us/step - loss: 0.2874 - acc: 0.8606\n",
      "Epoch 25/100\n",
      "1279/1279 [==============================] - 0s 233us/step - loss: 0.2864 - acc: 0.8607\n",
      "Epoch 26/100\n",
      "1279/1279 [==============================] - 0s 234us/step - loss: 0.2858 - acc: 0.8593\n",
      "Epoch 27/100\n",
      "1279/1279 [==============================] - 0s 226us/step - loss: 0.2850 - acc: 0.8604\n",
      "Epoch 28/100\n",
      "1279/1279 [==============================] - 0s 220us/step - loss: 0.2842 - acc: 0.8617\n",
      "Epoch 29/100\n",
      "1279/1279 [==============================] - 0s 222us/step - loss: 0.2834 - acc: 0.8608\n",
      "Epoch 30/100\n",
      "1279/1279 [==============================] - 0s 220us/step - loss: 0.2828 - acc: 0.8603\n",
      "Epoch 31/100\n",
      "1279/1279 [==============================] - 0s 239us/step - loss: 0.2821 - acc: 0.8604\n",
      "Epoch 32/100\n",
      "1279/1279 [==============================] - 0s 228us/step - loss: 0.2818 - acc: 0.8616\n",
      "Epoch 33/100\n",
      "1279/1279 [==============================] - 0s 226us/step - loss: 0.2808 - acc: 0.8606\n",
      "Epoch 34/100\n",
      "1279/1279 [==============================] - 0s 228us/step - loss: 0.2806 - acc: 0.8616\n",
      "Epoch 35/100\n",
      "1279/1279 [==============================] - 0s 228us/step - loss: 0.2813 - acc: 0.8593\n",
      "Epoch 36/100\n",
      "1279/1279 [==============================] - 0s 271us/step - loss: 0.2797 - acc: 0.8619\n",
      "Epoch 37/100\n",
      "1279/1279 [==============================] - 0s 354us/step - loss: 0.2791 - acc: 0.8611\n",
      "Epoch 38/100\n",
      "1279/1279 [==============================] - 0s 311us/step - loss: 0.2785 - acc: 0.8616\n",
      "Epoch 39/100\n",
      "1279/1279 [==============================] - 0s 221us/step - loss: 0.2780 - acc: 0.8646\n",
      "Epoch 40/100\n",
      "1279/1279 [==============================] - 0s 245us/step - loss: 0.2779 - acc: 0.8624\n",
      "Epoch 41/100\n",
      "1279/1279 [==============================] - 0s 228us/step - loss: 0.2771 - acc: 0.8636\n",
      "Epoch 42/100\n",
      "1279/1279 [==============================] - 0s 221us/step - loss: 0.2773 - acc: 0.8657\n",
      "Epoch 43/100\n",
      "1279/1279 [==============================] - 0s 224us/step - loss: 0.2763 - acc: 0.8659\n",
      "Epoch 44/100\n",
      "1279/1279 [==============================] - 0s 222us/step - loss: 0.2760 - acc: 0.8654\n",
      "Epoch 45/100\n",
      "1279/1279 [==============================] - 0s 227us/step - loss: 0.2756 - acc: 0.8663\n",
      "Epoch 46/100\n",
      "1279/1279 [==============================] - 0s 228us/step - loss: 0.2758 - acc: 0.8663\n",
      "Epoch 47/100\n",
      "1279/1279 [==============================] - 0s 231us/step - loss: 0.2749 - acc: 0.8657\n",
      "Epoch 48/100\n",
      "1279/1279 [==============================] - 0s 258us/step - loss: 0.2753 - acc: 0.8646\n",
      "Epoch 49/100\n",
      "1279/1279 [==============================] - 0s 256us/step - loss: 0.2746 - acc: 0.8646\n",
      "Epoch 50/100\n",
      "1279/1279 [==============================] - 0s 259us/step - loss: 0.2747 - acc: 0.8659\n",
      "Epoch 51/100\n",
      "1279/1279 [==============================] - 0s 222us/step - loss: 0.2742 - acc: 0.8657\n",
      "Epoch 52/100\n",
      "1279/1279 [==============================] - 0s 378us/step - loss: 0.2744 - acc: 0.8659\n",
      "Epoch 53/100\n",
      "1279/1279 [==============================] - 0s 285us/step - loss: 0.2739 - acc: 0.8660\n",
      "Epoch 54/100\n",
      "1279/1279 [==============================] - 0s 270us/step - loss: 0.2739 - acc: 0.8679\n",
      "Epoch 55/100\n",
      "1279/1279 [==============================] - 0s 359us/step - loss: 0.2737 - acc: 0.8668\n",
      "Epoch 56/100\n",
      "1279/1279 [==============================] - 0s 341us/step - loss: 0.2737 - acc: 0.8647\n",
      "Epoch 57/100\n",
      "1279/1279 [==============================] - 0s 304us/step - loss: 0.2732 - acc: 0.8662\n",
      "Epoch 58/100\n",
      "1279/1279 [==============================] - 0s 276us/step - loss: 0.2730 - acc: 0.8654\n",
      "Epoch 59/100\n",
      "1279/1279 [==============================] - 0s 295us/step - loss: 0.2730 - acc: 0.8668\n",
      "Epoch 60/100\n",
      "1279/1279 [==============================] - 0s 316us/step - loss: 0.2729 - acc: 0.8670\n",
      "Epoch 61/100\n",
      "1279/1279 [==============================] - 0s 218us/step - loss: 0.2728 - acc: 0.8650\n",
      "Epoch 62/100\n",
      "1279/1279 [==============================] - 0s 244us/step - loss: 0.2727 - acc: 0.8670\n",
      "Epoch 63/100\n",
      "1279/1279 [==============================] - 0s 218us/step - loss: 0.2722 - acc: 0.8686\n",
      "Epoch 64/100\n",
      "1279/1279 [==============================] - 0s 242us/step - loss: 0.2723 - acc: 0.8667\n",
      "Epoch 65/100\n",
      "1279/1279 [==============================] - 0s 233us/step - loss: 0.2722 - acc: 0.8670\n",
      "Epoch 66/100\n",
      "1279/1279 [==============================] - 0s 252us/step - loss: 0.2718 - acc: 0.8660\n",
      "Epoch 67/100\n",
      "1279/1279 [==============================] - 0s 234us/step - loss: 0.2719 - acc: 0.8670\n",
      "Epoch 68/100\n",
      "1279/1279 [==============================] - 0s 237us/step - loss: 0.2720 - acc: 0.8679\n",
      "Epoch 69/100\n",
      "1279/1279 [==============================] - 0s 230us/step - loss: 0.2717 - acc: 0.8684\n",
      "Epoch 70/100\n",
      "1279/1279 [==============================] - 0s 187us/step - loss: 0.2721 - acc: 0.8670\n",
      "Epoch 71/100\n",
      "1279/1279 [==============================] - 0s 199us/step - loss: 0.2714 - acc: 0.8672\n",
      "Epoch 72/100\n",
      "1279/1279 [==============================] - 0s 223us/step - loss: 0.2720 - acc: 0.8670\n",
      "Epoch 73/100\n",
      "1279/1279 [==============================] - 0s 222us/step - loss: 0.2713 - acc: 0.8659\n",
      "Epoch 74/100\n",
      "1279/1279 [==============================] - 0s 239us/step - loss: 0.2716 - acc: 0.8675\n",
      "Epoch 75/100\n",
      "1279/1279 [==============================] - 0s 217us/step - loss: 0.2714 - acc: 0.8683\n",
      "Epoch 76/100\n",
      "1279/1279 [==============================] - 0s 217us/step - loss: 0.2709 - acc: 0.8664\n",
      "Epoch 77/100\n",
      "1279/1279 [==============================] - 0s 220us/step - loss: 0.2711 - acc: 0.8668\n",
      "Epoch 78/100\n",
      "1279/1279 [==============================] - 0s 232us/step - loss: 0.2712 - acc: 0.8677\n",
      "Epoch 79/100\n",
      "1279/1279 [==============================] - 0s 223us/step - loss: 0.2715 - acc: 0.8684\n",
      "Epoch 80/100\n",
      "1279/1279 [==============================] - 0s 205us/step - loss: 0.2705 - acc: 0.8675\n",
      "Epoch 81/100\n",
      "1279/1279 [==============================] - 0s 208us/step - loss: 0.2711 - acc: 0.8671\n",
      "Epoch 82/100\n",
      "1279/1279 [==============================] - 0s 208us/step - loss: 0.2707 - acc: 0.8666\n",
      "Epoch 83/100\n",
      "1279/1279 [==============================] - 0s 212us/step - loss: 0.2708 - acc: 0.8675\n",
      "Epoch 84/100\n",
      "1279/1279 [==============================] - 0s 238us/step - loss: 0.2709 - acc: 0.8694\n",
      "Epoch 85/100\n",
      "1279/1279 [==============================] - 0s 207us/step - loss: 0.2708 - acc: 0.8694\n",
      "Epoch 86/100\n",
      "1279/1279 [==============================] - 0s 233us/step - loss: 0.2705 - acc: 0.8663\n",
      "Epoch 87/100\n",
      "1279/1279 [==============================] - 0s 205us/step - loss: 0.2704 - acc: 0.8701\n",
      "Epoch 88/100\n",
      "1279/1279 [==============================] - 0s 216us/step - loss: 0.2703 - acc: 0.8700\n",
      "Epoch 89/100\n",
      "1279/1279 [==============================] - 0s 230us/step - loss: 0.2704 - acc: 0.8714\n",
      "Epoch 90/100\n",
      "1279/1279 [==============================] - 0s 205us/step - loss: 0.2703 - acc: 0.8690\n",
      "Epoch 91/100\n",
      "1279/1279 [==============================] - 0s 223us/step - loss: 0.2700 - acc: 0.8694\n",
      "Epoch 92/100\n",
      "1279/1279 [==============================] - 0s 174us/step - loss: 0.2700 - acc: 0.8693\n",
      "Epoch 93/100\n",
      "1279/1279 [==============================] - 0s 197us/step - loss: 0.2697 - acc: 0.8693\n",
      "Epoch 94/100\n",
      "1279/1279 [==============================] - 0s 211us/step - loss: 0.2705 - acc: 0.8706\n",
      "Epoch 95/100\n",
      "1279/1279 [==============================] - 0s 215us/step - loss: 0.2699 - acc: 0.8713\n",
      "Epoch 96/100\n",
      "1279/1279 [==============================] - 0s 205us/step - loss: 0.2699 - acc: 0.8700\n",
      "Epoch 97/100\n",
      "1279/1279 [==============================] - 0s 211us/step - loss: 0.2699 - acc: 0.8718\n",
      "Epoch 98/100\n",
      "1279/1279 [==============================] - 0s 207us/step - loss: 0.2698 - acc: 0.8697\n",
      "Epoch 99/100\n",
      "1279/1279 [==============================] - 0s 207us/step - loss: 0.2697 - acc: 0.8693\n",
      "Epoch 100/100\n",
      "1279/1279 [==============================] - 0s 221us/step - loss: 0.2698 - acc: 0.8702\n"
     ]
    },
    {
     "data": {
      "text/plain": [
       "(1279, 6)"
      ]
     },
     "execution_count": 31,
     "metadata": {},
     "output_type": "execute_result"
    }
   ],
   "source": [
    "#from keras.utils import to_categorical\n",
    "#y_binary = to_categorical(y_train)\n",
    "#model_k.compile(optimizer = 'adam', loss = 'categorical_crossentropy', metrics = ['accuracy'])\n",
    "#model_k.fit(x_train, y_binary, batch_size = 10, epochs = 100)\n",
    "\n",
    "model_k.compile(optimizer = 'adam', loss = 'binary_crossentropy', metrics = ['accuracy'])\n",
    "model_k.fit(x_train, y_train, batch_size = 10, epochs = 100)\n",
    "y_train.shape"
   ]
  },
  {
   "cell_type": "code",
   "execution_count": 32,
   "metadata": {},
   "outputs": [],
   "source": [
    "y_pred_k = model_k.predict(x_test)"
   ]
  },
  {
   "cell_type": "code",
   "execution_count": 33,
   "metadata": {},
   "outputs": [
    {
     "data": {
      "text/html": [
       "<div>\n",
       "<style scoped>\n",
       "    .dataframe tbody tr th:only-of-type {\n",
       "        vertical-align: middle;\n",
       "    }\n",
       "\n",
       "    .dataframe tbody tr th {\n",
       "        vertical-align: top;\n",
       "    }\n",
       "\n",
       "    .dataframe thead th {\n",
       "        text-align: right;\n",
       "    }\n",
       "</style>\n",
       "<table border=\"1\" class=\"dataframe\">\n",
       "  <thead>\n",
       "    <tr style=\"text-align: right;\">\n",
       "      <th></th>\n",
       "      <th>3</th>\n",
       "      <th>4</th>\n",
       "      <th>5</th>\n",
       "      <th>6</th>\n",
       "      <th>7</th>\n",
       "      <th>8</th>\n",
       "    </tr>\n",
       "  </thead>\n",
       "  <tbody>\n",
       "    <tr>\n",
       "      <th>1109</th>\n",
       "      <td>0</td>\n",
       "      <td>0</td>\n",
       "      <td>0</td>\n",
       "      <td>1</td>\n",
       "      <td>0</td>\n",
       "      <td>0</td>\n",
       "    </tr>\n",
       "    <tr>\n",
       "      <th>1032</th>\n",
       "      <td>0</td>\n",
       "      <td>0</td>\n",
       "      <td>1</td>\n",
       "      <td>0</td>\n",
       "      <td>0</td>\n",
       "      <td>0</td>\n",
       "    </tr>\n",
       "    <tr>\n",
       "      <th>1002</th>\n",
       "      <td>0</td>\n",
       "      <td>0</td>\n",
       "      <td>0</td>\n",
       "      <td>0</td>\n",
       "      <td>1</td>\n",
       "      <td>0</td>\n",
       "    </tr>\n",
       "    <tr>\n",
       "      <th>487</th>\n",
       "      <td>0</td>\n",
       "      <td>0</td>\n",
       "      <td>0</td>\n",
       "      <td>1</td>\n",
       "      <td>0</td>\n",
       "      <td>0</td>\n",
       "    </tr>\n",
       "    <tr>\n",
       "      <th>979</th>\n",
       "      <td>0</td>\n",
       "      <td>0</td>\n",
       "      <td>1</td>\n",
       "      <td>0</td>\n",
       "      <td>0</td>\n",
       "      <td>0</td>\n",
       "    </tr>\n",
       "    <tr>\n",
       "      <th>1054</th>\n",
       "      <td>0</td>\n",
       "      <td>0</td>\n",
       "      <td>0</td>\n",
       "      <td>1</td>\n",
       "      <td>0</td>\n",
       "      <td>0</td>\n",
       "    </tr>\n",
       "    <tr>\n",
       "      <th>542</th>\n",
       "      <td>0</td>\n",
       "      <td>0</td>\n",
       "      <td>1</td>\n",
       "      <td>0</td>\n",
       "      <td>0</td>\n",
       "      <td>0</td>\n",
       "    </tr>\n",
       "    <tr>\n",
       "      <th>853</th>\n",
       "      <td>0</td>\n",
       "      <td>0</td>\n",
       "      <td>0</td>\n",
       "      <td>1</td>\n",
       "      <td>0</td>\n",
       "      <td>0</td>\n",
       "    </tr>\n",
       "    <tr>\n",
       "      <th>1189</th>\n",
       "      <td>0</td>\n",
       "      <td>1</td>\n",
       "      <td>0</td>\n",
       "      <td>0</td>\n",
       "      <td>0</td>\n",
       "      <td>0</td>\n",
       "    </tr>\n",
       "    <tr>\n",
       "      <th>412</th>\n",
       "      <td>0</td>\n",
       "      <td>0</td>\n",
       "      <td>1</td>\n",
       "      <td>0</td>\n",
       "      <td>0</td>\n",
       "      <td>0</td>\n",
       "    </tr>\n",
       "  </tbody>\n",
       "</table>\n",
       "</div>"
      ],
      "text/plain": [
       "      3  4  5  6  7  8\n",
       "1109  0  0  0  1  0  0\n",
       "1032  0  0  1  0  0  0\n",
       "1002  0  0  0  0  1  0\n",
       "487   0  0  0  1  0  0\n",
       "979   0  0  1  0  0  0\n",
       "1054  0  0  0  1  0  0\n",
       "542   0  0  1  0  0  0\n",
       "853   0  0  0  1  0  0\n",
       "1189  0  1  0  0  0  0\n",
       "412   0  0  1  0  0  0"
      ]
     },
     "execution_count": 33,
     "metadata": {},
     "output_type": "execute_result"
    }
   ],
   "source": [
    "y_test[0:10]"
   ]
  },
  {
   "cell_type": "code",
   "execution_count": 65,
   "metadata": {},
   "outputs": [
    {
     "data": {
      "text/html": [
       "<div>\n",
       "<style scoped>\n",
       "    .dataframe tbody tr th:only-of-type {\n",
       "        vertical-align: middle;\n",
       "    }\n",
       "\n",
       "    .dataframe tbody tr th {\n",
       "        vertical-align: top;\n",
       "    }\n",
       "\n",
       "    .dataframe thead th {\n",
       "        text-align: right;\n",
       "    }\n",
       "</style>\n",
       "<table border=\"1\" class=\"dataframe\">\n",
       "  <thead>\n",
       "    <tr style=\"text-align: right;\">\n",
       "      <th></th>\n",
       "      <th>0</th>\n",
       "      <th>1</th>\n",
       "      <th>2</th>\n",
       "      <th>3</th>\n",
       "      <th>4</th>\n",
       "      <th>5</th>\n",
       "    </tr>\n",
       "  </thead>\n",
       "  <tbody>\n",
       "    <tr>\n",
       "      <th>0</th>\n",
       "      <td>False</td>\n",
       "      <td>False</td>\n",
       "      <td>False</td>\n",
       "      <td>True</td>\n",
       "      <td>False</td>\n",
       "      <td>False</td>\n",
       "    </tr>\n",
       "    <tr>\n",
       "      <th>1</th>\n",
       "      <td>False</td>\n",
       "      <td>False</td>\n",
       "      <td>True</td>\n",
       "      <td>False</td>\n",
       "      <td>False</td>\n",
       "      <td>False</td>\n",
       "    </tr>\n",
       "    <tr>\n",
       "      <th>2</th>\n",
       "      <td>False</td>\n",
       "      <td>False</td>\n",
       "      <td>False</td>\n",
       "      <td>False</td>\n",
       "      <td>True</td>\n",
       "      <td>False</td>\n",
       "    </tr>\n",
       "    <tr>\n",
       "      <th>3</th>\n",
       "      <td>False</td>\n",
       "      <td>False</td>\n",
       "      <td>True</td>\n",
       "      <td>False</td>\n",
       "      <td>False</td>\n",
       "      <td>False</td>\n",
       "    </tr>\n",
       "    <tr>\n",
       "      <th>4</th>\n",
       "      <td>False</td>\n",
       "      <td>False</td>\n",
       "      <td>False</td>\n",
       "      <td>True</td>\n",
       "      <td>False</td>\n",
       "      <td>False</td>\n",
       "    </tr>\n",
       "    <tr>\n",
       "      <th>5</th>\n",
       "      <td>False</td>\n",
       "      <td>False</td>\n",
       "      <td>True</td>\n",
       "      <td>False</td>\n",
       "      <td>False</td>\n",
       "      <td>False</td>\n",
       "    </tr>\n",
       "    <tr>\n",
       "      <th>6</th>\n",
       "      <td>False</td>\n",
       "      <td>False</td>\n",
       "      <td>False</td>\n",
       "      <td>False</td>\n",
       "      <td>False</td>\n",
       "      <td>False</td>\n",
       "    </tr>\n",
       "    <tr>\n",
       "      <th>7</th>\n",
       "      <td>False</td>\n",
       "      <td>False</td>\n",
       "      <td>False</td>\n",
       "      <td>True</td>\n",
       "      <td>False</td>\n",
       "      <td>False</td>\n",
       "    </tr>\n",
       "    <tr>\n",
       "      <th>8</th>\n",
       "      <td>False</td>\n",
       "      <td>False</td>\n",
       "      <td>True</td>\n",
       "      <td>False</td>\n",
       "      <td>False</td>\n",
       "      <td>False</td>\n",
       "    </tr>\n",
       "    <tr>\n",
       "      <th>9</th>\n",
       "      <td>False</td>\n",
       "      <td>False</td>\n",
       "      <td>True</td>\n",
       "      <td>False</td>\n",
       "      <td>False</td>\n",
       "      <td>False</td>\n",
       "    </tr>\n",
       "  </tbody>\n",
       "</table>\n",
       "</div>"
      ],
      "text/plain": [
       "       0      1      2      3      4      5\n",
       "0  False  False  False   True  False  False\n",
       "1  False  False   True  False  False  False\n",
       "2  False  False  False  False   True  False\n",
       "3  False  False   True  False  False  False\n",
       "4  False  False  False   True  False  False\n",
       "5  False  False   True  False  False  False\n",
       "6  False  False  False  False  False  False\n",
       "7  False  False  False   True  False  False\n",
       "8  False  False   True  False  False  False\n",
       "9  False  False   True  False  False  False"
      ]
     },
     "execution_count": 65,
     "metadata": {},
     "output_type": "execute_result"
    }
   ],
   "source": [
    "y_pred_k[0:10]"
   ]
  },
  {
   "cell_type": "code",
   "execution_count": 34,
   "metadata": {},
   "outputs": [],
   "source": [
    "y_pred_k = (y_pred_k > 0.5)"
   ]
  },
  {
   "cell_type": "code",
   "execution_count": 35,
   "metadata": {},
   "outputs": [
    {
     "data": {
      "text/plain": [
       "array([[False, False, False,  True, False, False],\n",
       "       [False, False,  True, False, False, False],\n",
       "       [False, False, False, False,  True, False],\n",
       "       [False, False,  True, False, False, False],\n",
       "       [False, False, False,  True, False, False],\n",
       "       [False, False,  True, False, False, False],\n",
       "       [False, False, False, False, False, False],\n",
       "       [False, False, False,  True, False, False],\n",
       "       [False, False,  True, False, False, False],\n",
       "       [False, False,  True, False, False, False]])"
      ]
     },
     "execution_count": 35,
     "metadata": {},
     "output_type": "execute_result"
    }
   ],
   "source": [
    "y_pred_k[0:10]"
   ]
  },
  {
   "cell_type": "code",
   "execution_count": 36,
   "metadata": {},
   "outputs": [],
   "source": [
    "#y_pred_k=pd.DataFrame(y_pred_k)\n",
    "\n",
    "from sklearn.metrics import confusion_matrix, classification_report\n",
    "#confusion_matrix = confusion_matrix(y_test, y_pred_k)\n",
    "y_pred_k=pd.DataFrame(y_pred_k)\n",
    "confusion_matrix = confusion_matrix(y_test.values.argmax(axis=1), y_pred.values.argmax(axis=1))"
   ]
  },
  {
   "cell_type": "markdown",
   "metadata": {},
   "source": [
    "# Print ANN keras classification report"
   ]
  },
  {
   "cell_type": "code",
   "execution_count": 37,
   "metadata": {},
   "outputs": [
    {
     "name": "stdout",
     "output_type": "stream",
     "text": [
      "              precision    recall  f1-score   support\n",
      "\n",
      "           0       0.00      0.00      0.00         2\n",
      "           1       0.00      0.00      0.00        11\n",
      "           2       0.70      0.64      0.67       135\n",
      "           3       0.58      0.46      0.52       142\n",
      "           4       0.35      0.30      0.32        27\n",
      "           5       0.00      0.00      0.00         3\n",
      "\n",
      "   micro avg       0.62      0.50      0.55       320\n",
      "   macro avg       0.27      0.23      0.25       320\n",
      "weighted avg       0.58      0.50      0.54       320\n",
      " samples avg       0.50      0.50      0.50       320\n",
      "\n"
     ]
    }
   ],
   "source": [
    "print(classification_report(y_test, y_pred_k))"
   ]
  },
  {
   "cell_type": "code",
   "execution_count": 64,
   "metadata": {},
   "outputs": [
    {
     "data": {
      "text/html": [
       "<div>\n",
       "<style scoped>\n",
       "    .dataframe tbody tr th:only-of-type {\n",
       "        vertical-align: middle;\n",
       "    }\n",
       "\n",
       "    .dataframe tbody tr th {\n",
       "        vertical-align: top;\n",
       "    }\n",
       "\n",
       "    .dataframe thead th {\n",
       "        text-align: right;\n",
       "    }\n",
       "</style>\n",
       "<table border=\"1\" class=\"dataframe\">\n",
       "  <thead>\n",
       "    <tr style=\"text-align: right;\">\n",
       "      <th></th>\n",
       "      <th>0</th>\n",
       "      <th>1</th>\n",
       "      <th>2</th>\n",
       "      <th>3</th>\n",
       "      <th>4</th>\n",
       "      <th>5</th>\n",
       "    </tr>\n",
       "  </thead>\n",
       "  <tbody>\n",
       "    <tr>\n",
       "      <th>0</th>\n",
       "      <td>False</td>\n",
       "      <td>False</td>\n",
       "      <td>False</td>\n",
       "      <td>True</td>\n",
       "      <td>False</td>\n",
       "      <td>False</td>\n",
       "    </tr>\n",
       "    <tr>\n",
       "      <th>1</th>\n",
       "      <td>False</td>\n",
       "      <td>False</td>\n",
       "      <td>True</td>\n",
       "      <td>False</td>\n",
       "      <td>False</td>\n",
       "      <td>False</td>\n",
       "    </tr>\n",
       "    <tr>\n",
       "      <th>2</th>\n",
       "      <td>False</td>\n",
       "      <td>False</td>\n",
       "      <td>False</td>\n",
       "      <td>False</td>\n",
       "      <td>True</td>\n",
       "      <td>False</td>\n",
       "    </tr>\n",
       "    <tr>\n",
       "      <th>3</th>\n",
       "      <td>False</td>\n",
       "      <td>False</td>\n",
       "      <td>True</td>\n",
       "      <td>False</td>\n",
       "      <td>False</td>\n",
       "      <td>False</td>\n",
       "    </tr>\n",
       "    <tr>\n",
       "      <th>4</th>\n",
       "      <td>False</td>\n",
       "      <td>False</td>\n",
       "      <td>False</td>\n",
       "      <td>True</td>\n",
       "      <td>False</td>\n",
       "      <td>False</td>\n",
       "    </tr>\n",
       "  </tbody>\n",
       "</table>\n",
       "</div>"
      ],
      "text/plain": [
       "       0      1      2      3      4      5\n",
       "0  False  False  False   True  False  False\n",
       "1  False  False   True  False  False  False\n",
       "2  False  False  False  False   True  False\n",
       "3  False  False   True  False  False  False\n",
       "4  False  False  False   True  False  False"
      ]
     },
     "execution_count": 64,
     "metadata": {},
     "output_type": "execute_result"
    }
   ],
   "source": [
    "#y_pred_k=pd.DataFrame(y_pred_k)\n",
    "y_pred_k.head()"
   ]
  },
  {
   "cell_type": "code",
   "execution_count": 73,
   "metadata": {},
   "outputs": [],
   "source": [
    "import livelossplot"
   ]
  },
  {
   "cell_type": "code",
   "execution_count": 74,
   "metadata": {},
   "outputs": [],
   "source": [
    "plot_losses = livelossplot.PlotLossesKeras()"
   ]
  },
  {
   "cell_type": "code",
   "execution_count": 22,
   "metadata": {},
   "outputs": [],
   "source": [
    "#model_k.fit(x_train, y_train, batch_size = 5, callbacks = [plot_losses], epochs = 30, validation_data = (x_test, y_test))"
   ]
  },
  {
   "cell_type": "markdown",
   "metadata": {},
   "source": [
    "# Import extra libraries"
   ]
  },
  {
   "cell_type": "code",
   "execution_count": 38,
   "metadata": {},
   "outputs": [],
   "source": [
    "from sklearn.model_selection import train_test_split\n",
    "from sklearn.ensemble import RandomForestClassifier\n",
    "from sklearn.svm import SVC\n",
    "from sklearn.metrics import classification_report\n",
    "from sklearn.metrics import confusion_matrix\n",
    "from sklearn.metrics import accuracy_score, r2_score\n",
    "from sklearn.model_selection import KFold\n",
    "from sklearn.model_selection import cross_val_score\n",
    "from sklearn.linear_model import LogisticRegression, LinearRegression\n",
    "from sklearn.tree import DecisionTreeClassifier\n",
    "from sklearn.neighbors import KNeighborsClassifier\n",
    "from sklearn.ensemble import RandomForestClassifier\n",
    "from sklearn.discriminant_analysis import LinearDiscriminantAnalysis\n",
    "from sklearn.naive_bayes import GaussianNB\n",
    "from sklearn.svm import SVC\n",
    "from sklearn.tree import DecisionTreeRegressor\n",
    "from sklearn.neighbors import KNeighborsRegressor\n",
    "from sklearn.ensemble import RandomForestRegressor\n",
    "from sklearn.tree import DecisionTreeRegressor\n",
    "from sklearn.svm import SVR\n",
    "from sklearn.tree import DecisionTreeRegressor\n",
    "from sklearn import preprocessing"
   ]
  },
  {
   "cell_type": "code",
   "execution_count": 39,
   "metadata": {},
   "outputs": [],
   "source": [
    "# Just to ignore warnings\n",
    "import warnings\n",
    "warnings.filterwarnings('ignore')\n",
    "#import libraries\n",
    "import pandas as pd\n",
    "import seaborn as sns\n",
    "import matplotlib.pyplot as plt\n",
    "import numpy as np\n",
    "%matplotlib inline\n",
    "import sklearn as sk\n",
    "#preprocessing module\n",
    "from sklearn.model_selection import train_test_split"
   ]
  },
  {
   "cell_type": "markdown",
   "metadata": {},
   "source": [
    "# Classifier performance"
   ]
  },
  {
   "cell_type": "code",
   "execution_count": 40,
   "metadata": {},
   "outputs": [
    {
     "name": "stdout",
     "output_type": "stream",
     "text": [
      "(1599,)\n",
      "0.628125\n",
      "0.60625\n",
      "0.6625\n",
      "0.6625\n",
      "0.646875\n"
     ]
    }
   ],
   "source": [
    "x=df[[\"fixed acidity\", \"volatile acidity\", \"citric acid\", \"residual sugar\",\n",
    "       \"chlorides\", \"free sulfur dioxide\", \"total sulfur dioxide\", \"density\",\n",
    "       \"pH\", \"sulphates\", \"alcohol\" ]]\n",
    "x=preprocessing.scale(x)\n",
    "\n",
    "\n",
    "y=df[\"quality\"]\n",
    "\n",
    "#y=preprocessing.normalize([y])\n",
    "print(y.shape)\n",
    "#scale(df[])\n",
    "\n",
    "\n",
    "x_train, x_test, y_train, y_test = train_test_split(x, y, test_size=0.2, random_state=0)\n",
    "model_all = [LogisticRegression(), KNeighborsClassifier(), RandomForestClassifier(), \n",
    "        DecisionTreeClassifier(), SVC()]\n",
    "         \n",
    "\n",
    "for model in model_all:\n",
    "    #print(y_train)\n",
    "    #print(np.unique(y_train))\n",
    "    model.fit(x_train, y_train)\n",
    "    score = model.score(x_test, y_test)\n",
    "    print(score)\n",
    "    model=None\n",
    "\n"
   ]
  },
  {
   "cell_type": "markdown",
   "metadata": {},
   "source": [
    "# Regressor Performance"
   ]
  },
  {
   "cell_type": "code",
   "execution_count": 41,
   "metadata": {},
   "outputs": [
    {
     "name": "stdout",
     "output_type": "stream",
     "text": [
      "(1, 1599)\n",
      "0.3707576574165463\n",
      "0.3447904777433557\n",
      "0.47924844611119966\n",
      "-0.021794662753410243\n",
      "-0.052231099516278245\n"
     ]
    }
   ],
   "source": [
    "x=df[[\"fixed acidity\", \"volatile acidity\", \"citric acid\", \"residual sugar\",\n",
    "       \"chlorides\", \"free sulfur dioxide\", \"total sulfur dioxide\", \"density\",\n",
    "       \"pH\", \"sulphates\", \"alcohol\" ]]\n",
    "x=preprocessing.scale(x)\n",
    "\n",
    "\n",
    "y=df[\"quality\"]\n",
    "\n",
    "y=preprocessing.normalize([y])\n",
    "print(y.shape)\n",
    "#scale(df[])\n",
    "\n",
    "\n",
    "x_train, x_test, y_train, y_test = train_test_split(x, y[0], test_size=0.2, random_state=10)\n",
    "\n",
    "#[(\"LR\",LinearRegression()), (\"KNR\", KNeighborsRegressor(n_neighbors=10)), (\"RFR\", RandomForestRegressor(n_estimators=1000, random_state=0)), \n",
    "#        (\"DTC\", DecisionTreeRegressor(random_state=0)), (\"SVR\", SVR())]\n",
    "model_all = [LinearRegression(), KNeighborsRegressor(n_neighbors=10), RandomForestRegressor(n_estimators=1000, random_state=10), \n",
    "            DecisionTreeRegressor(random_state=0), SVR()]\n",
    "         \n",
    "for model in model_all:\n",
    "    model.fit(x_train, y_train)\n",
    "    y_pred = model.predict(x_test)\n",
    "    print(r2_score(y_test, y_pred))\n",
    "    model=None"
   ]
  },
  {
   "cell_type": "markdown",
   "metadata": {},
   "source": [
    "# Can I improve RF using RandomizedSearchCV?"
   ]
  },
  {
   "cell_type": "code",
   "execution_count": 42,
   "metadata": {},
   "outputs": [
    {
     "name": "stdout",
     "output_type": "stream",
     "text": [
      "Fitting 3 folds for each of 100 candidates, totalling 300 fits\n"
     ]
    },
    {
     "name": "stderr",
     "output_type": "stream",
     "text": [
      "[Parallel(n_jobs=-1)]: Using backend LokyBackend with 4 concurrent workers.\n",
      "[Parallel(n_jobs=-1)]: Done  33 tasks      | elapsed:   46.3s\n",
      "[Parallel(n_jobs=-1)]: Done 154 tasks      | elapsed:  3.2min\n",
      "[Parallel(n_jobs=-1)]: Done 300 out of 300 | elapsed:  6.8min finished\n"
     ]
    },
    {
     "name": "stdout",
     "output_type": "stream",
     "text": [
      "0.4830518625280883\n"
     ]
    }
   ],
   "source": [
    "from sklearn.model_selection import RandomizedSearchCV\n",
    "\n",
    "# Number of trees in random forest\n",
    "n_estimators = [int(x) for x in np.linspace(start = 200, stop = 2000, num = 10)]\n",
    "# Number of features to consider at every split\n",
    "max_features = ['auto', 'sqrt']\n",
    "# Maximum number of levels in tree\n",
    "max_depth = [int(x) for x in np.linspace(10, 110, num = 11)]\n",
    "max_depth.append(None)\n",
    "# Minimum number of samples required to split a node\n",
    "min_samples_split = [2, 5, 10]\n",
    "# Minimum number of samples required at each leaf node\n",
    "min_samples_leaf = [1, 2, 4]\n",
    "# Method of selecting samples for training each tree\n",
    "bootstrap = [True, False]\n",
    "# Create the random grid\n",
    "random_grid = {'n_estimators': n_estimators,\n",
    "               'max_features': max_features,\n",
    "               'max_depth': max_depth,\n",
    "               'min_samples_split': min_samples_split,\n",
    "               'min_samples_leaf': min_samples_leaf,\n",
    "               'bootstrap': bootstrap}\n",
    "\n",
    "# Use the random grid to search for best hyperparameters\n",
    "# First create the base model to tune\n",
    "RF = RandomForestRegressor()\n",
    "# Random search of parameters, using 3 fold cross validation, \n",
    "# search across 100 different combinations, and use all available cores\n",
    "RF_random = RandomizedSearchCV(estimator = RF, param_distributions = random_grid, n_iter = 100, cv = 3, verbose=2, random_state=42, n_jobs = -1)\n",
    "# Fit the random search model\n",
    "RF_random.fit(x_train, y_train)\n",
    "y_pred_RF = RF_random.predict(x_test)\n",
    "print(r2_score(y_test, y_pred_RF))"
   ]
  },
  {
   "cell_type": "code",
   "execution_count": null,
   "metadata": {},
   "outputs": [],
   "source": [
    "from sklearn.model_selection import RandomizedSearchCV\n",
    "\n",
    "# Number of trees in random forest\n",
    "n_estimators = [int(x) for x in np.linspace(start = 200, stop = 2000, num = 10)]\n",
    "# Number of features to consider at every split\n",
    "max_features = ['auto', 'sqrt']\n",
    "# Maximum number of levels in tree\n",
    "max_depth = [int(x) for x in np.linspace(10, 110, num = 11)]\n",
    "max_depth.append(None)\n",
    "# Minimum number of samples required to split a node\n",
    "min_samples_split = [2, 5, 10]\n",
    "# Minimum number of samples required at each leaf node\n",
    "min_samples_leaf = [1, 2, 4]\n",
    "# Method of selecting samples for training each tree\n",
    "bootstrap = [True, False]\n",
    "# Create the random grid\n",
    "random_grid = {'n_estimators': n_estimators,\n",
    "               'max_features': max_features,\n",
    "               'max_depth': max_depth,\n",
    "               'min_samples_split': min_samples_split,\n",
    "               'min_samples_leaf': min_samples_leaf,\n",
    "               'bootstrap': bootstrap}\n",
    "\n",
    "# Use the random grid to search for best hyperparameters\n",
    "# First create the base model to tune\n",
    "RF = RandomForestClassifier()\n",
    "# Random search of parameters, using 3 fold cross validation, \n",
    "# search across 100 different combinations, and use all available cores\n",
    "RF_random = RandomizedSearchCV(estimator = RF, param_distributions = random_grid, n_iter = 100, cv = 3, verbose=2, random_state=42, n_jobs = -1)\n",
    "# Fit the random search model\n",
    "RF_random.fit(x_train, y_train)\n",
    "y_pred_RF = RF_random.predict(x_test)\n",
    "print(r2_score(y_test, y_pred_RF))"
   ]
  },
  {
   "cell_type": "code",
   "execution_count": 44,
   "metadata": {},
   "outputs": [
    {
     "data": {
      "image/png": "[encoded data removed]",
      "text/plain": [
       "<Figure size 432x288 with 1 Axes>"
      ]
     },
     "metadata": {
      "needs_background": "light"
     },
     "output_type": "display_data"
    }
   ],
   "source": [
    "objects = ('LM', 'KNN', 'RF', 'DT', 'SV')\n",
    "y_pos = np.arange(len(objects))\n",
    "performance = [0.628, 0.606, 0.681, 0.643, 0.646]\n",
    "\n",
    "plt.barh(y_pos, performance, align='center', alpha=0.5)\n",
    "plt.yticks(y_pos, objects)\n",
    "plt.ylabel('model')\n",
    "plt.xlabel('r2_score')\n",
    "plt.title('Classifiers Performance')\n",
    "\n",
    "plt.show()"
   ]
  },
  {
   "cell_type": "markdown",
   "metadata": {},
   "source": [
    "# Classification vs. Regression Comparison"
   ]
  },
  {
   "cell_type": "code",
   "execution_count": 45,
   "metadata": {},
   "outputs": [
    {
     "data": {
      "image/png": "[encoded data removed]",
      "text/plain": [
       "<Figure size 432x288 with 1 Axes>"
      ]
     },
     "metadata": {
      "needs_background": "light"
     },
     "output_type": "display_data"
    }
   ],
   "source": [
    "n_groups = 5\n",
    "performance_reg = (0.370, 0.344, 0.479, -0.021, -0.052)\n",
    "performance_class = (0.628, 0.606, 0.681, 0.643, 0.646)\n",
    "\n",
    "\n",
    "# create plot\n",
    "fig, ax = plt.subplots()\n",
    "index = np.arange(n_groups)\n",
    "bar_width = 0.35\n",
    "opacity = 0.8\n",
    "\n",
    "rects1 = plt.bar(index, performance_reg, bar_width, alpha=opacity, color='b', label='R_score')\n",
    "\n",
    "rects2 = plt.bar(index + bar_width, performance_class, bar_width, alpha=opacity, color='g', label='C_score')\n",
    "\n",
    "plt.xlabel('Models')\n",
    "plt.ylabel('Score Types')\n",
    "plt.title('Model Scores')\n",
    "plt.xticks(index + bar_width, ('LM', 'KNN', 'RF', 'DT', 'SV'))\n",
    "plt.legend()\n",
    "\n",
    "plt.tight_layout()\n",
    "plt.show()"
   ]
  },
  {
   "cell_type": "markdown",
   "metadata": {},
   "source": [
    "# Compare models performance"
   ]
  },
  {
   "cell_type": "code",
   "execution_count": 46,
   "metadata": {},
   "outputs": [
    {
     "data": {
      "image/png": "[encoded data removed]",
      "text/plain": [
       "<Figure size 432x288 with 1 Axes>"
      ]
     },
     "metadata": {
      "needs_background": "light"
     },
     "output_type": "display_data"
    }
   ],
   "source": [
    "objects = ('RF_reg', 'RF_class', 'ANN_K', 'ANN_MLP')\n",
    "y_pos = np.arange(len(objects))\n",
    "performance = [0.48, 0.68, 0.60, 0.59]\n",
    "\n",
    "plt.barh(y_pos, performance, align='center', alpha=0.5)\n",
    "plt.yticks(y_pos, objects)\n",
    "plt.ylabel('Model Type')\n",
    "plt.xlabel('Confusion Matrix')\n",
    "plt.title('Model Performance')\n",
    "\n",
    "plt.show()"
   ]
  },
  {
   "cell_type": "code",
   "execution_count": 51,
   "metadata": {},
   "outputs": [],
   "source": [
    "#!pip install rise"
   ]
  },
  {
   "cell_type": "code",
   "execution_count": 52,
   "metadata": {},
   "outputs": [],
   "source": [
    "#import livelossplot"
   ]
  },
  {
   "cell_type": "code",
   "execution_count": null,
   "metadata": {},
   "outputs": [],
   "source": [
    "import warnings\\n\",\n",
    "warnings.filterwarnings('ignore')\\n\",\n",
    "import pandas as pd\\n\",\n",
    "import numpy as np\\n\",\n",
    "import matplotlib.pyplot as plt\\n\",\n",
    "import sklearn as sk\\n\",\n",
    "import seaborn as sns\\n\",\n",
    "sns.set()\\n\",\n",
    "import seaborn as sns\\n\",\n",
    "    "
   ]
  }
 ],
 "metadata": {
  "kernelspec": {
   "display_name": "Python 3",
   "language": "python",
   "name": "python3"
  },
  "language_info": {
   "codemirror_mode": {
    "name": "ipython",
    "version": 3
   },
   "file_extension": ".py",
   "mimetype": "text/x-python",
   "name": "python",
   "nbconvert_exporter": "python",
   "pygments_lexer": "ipython3",
   "version": "3.7.3"
  }
 },
 "nbformat": 4,
 "nbformat_minor": 2
}
